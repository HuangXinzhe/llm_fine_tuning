{
 "cells": [
  {
   "cell_type": "markdown",
   "metadata": {},
   "source": [
    "# 数据增强"
   ]
  },
  {
   "cell_type": "markdown",
   "metadata": {},
   "source": [
    "## 构造多样化的提问方式"
   ]
  },
  {
   "cell_type": "markdown",
   "metadata": {},
   "source": []
  },
  {
   "cell_type": "markdown",
   "metadata": {},
   "source": [
    "使用ChatGPT等大模型工具来完成  \n",
    "实际对话如下：  \n",
    "  \n",
    "实际用户提问的时候，不会直接说”蒙卦“，因此，你给出20中提问的方式，并将这20中提问方式和原来的summary分别组成20条记录，并写入’zhouyi_dataset.csv‘文件。  \n",
    "  \n",
    "生成对应的Python代码"
   ]
  },
  {
   "cell_type": "markdown",
   "metadata": {},
   "source": [
    "### 数据增强生成"
   ]
  },
  {
   "cell_type": "code",
   "execution_count": null,
   "metadata": {},
   "outputs": [],
   "source": [
    "def generate_question_summary_pairs(content, summary):\n",
    "    \"\"\"\n",
    "    生成20对提问和总结的配对。\n",
    "\n",
    "    :param content: 内容（例如：“蒙卦”）。\n",
    "    :param summary: 内容的总结。\n",
    "    :return: 包含20对提问和总结的列表。\n",
    "    \"\"\"\n",
    "    # 20种提问模板\n",
    "    question_templates = [\n",
    "        \"{}代表什么？\",\n",
    "        \"周易中的{}含义是什么？\",\n",
    "        \"请解释一下{}。\",\n",
    "        \"{}在周易中是什么象征？\",\n",
    "        \"周易{}的深层含义是什么？\",\n",
    "        \"{}和教育启蒙有什么联系？\",\n",
    "        \"周易的{}讲述了什么？\",\n",
    "        \"{}是怎样的一个卦象？\",\n",
    "        \"{}在周易中怎样表达教育的概念？\",\n",
    "        \"{}的基本意义是什么？\",\n",
    "        \"周易中{}的解释是什么？\",\n",
    "        \"{}在周易中代表了哪些方面？\",\n",
    "        \"{}涉及哪些哲学思想？\",\n",
    "        \"周易中{}的象征意义是什么？\",\n",
    "        \"{}的主要讲述内容是什么？\",\n",
    "        \"周易{}的核心思想是什么？\",\n",
    "        \"{}和启蒙教育之间有何联系？\",\n",
    "        \"在周易中，{}象征着什么？\",\n",
    "        \"请描述{}的含义。\",\n",
    "        \"{}在周易哲学中扮演什么角色？\"\n",
    "    ]\n",
    "\n",
    "    # 使用content填充提问模板\n",
    "    questions = [template.format(content) for template in question_templates]\n",
    "\n",
    "    # 创建提问和总结的配对\n",
    "    question_summary_pairs = [(question, summary) for question in questions]\n",
    "\n",
    "    return question_summary_pairs"
   ]
  },
  {
   "cell_type": "code",
   "execution_count": null,
   "metadata": {},
   "outputs": [],
   "source": [
    "import csv\n",
    "\n",
    "# 如果没有GPT API，可以使用预定义的变量\n",
    "content = \"蒙卦\"\n",
    "summary = \"在周易中，师卦是一个极具深意的卦象，它由两个异卦相叠组成：下卦坎（水）和上卦坤（地）。这一卦象代表“师”，即军队，寓意着兵力和农力的结合。在这里，坎卦象征着水和险难，而坤卦象征着地和顺从，暗示着通过将军事力量安置于民间，可以在必要时顺利调动。师卦的核心哲学是：虽然兵力代表着危险和战争，但其使用应当是圣人不得已而为之的最后手段。在正确的情况下，军事力量可以顺应形势，将危险转化为吉祥。因此，在军事策略上，此卦象征着出征将会顺利，无灾祸。师卦紧随讼卦（争讼卦），在《序卦》中解释为“讼必有众起，故受之以师”。这意味着争端激化至众多人群的参与，形成了类似军队的集体力量。\"\n",
    "pairs = generate_question_summary_pairs(content, summary)\n",
    "\n",
    "# 将结果写入CSV文件\n",
    "with open('test_dataset.csv', mode='w', newline='', encoding='utf-8') as file:\n",
    "    writer = csv.writer(file)\n",
    "    writer.writerow(['content', 'summary'])\n",
    "    for pair in pairs:\n",
    "        writer.writerow(pair)"
   ]
  },
  {
   "cell_type": "markdown",
   "metadata": {},
   "source": [
    "### 自动化批量生成训练数据流水线"
   ]
  },
  {
   "cell_type": "markdown",
   "metadata": {},
   "source": [
    "原始数据来源：https://www.zhouyi.cc/zhouyi/yijing64/4103.html"
   ]
  },
  {
   "cell_type": "code",
   "execution_count": null,
   "metadata": {},
   "outputs": [],
   "source": [
    "# 初始化一个空列表用于存储原始内容数据\n",
    "raw_content_data = []\n",
    "\n",
    "# 读取文件并分割数据样例\n",
    "with open('data/raw_data.txt', 'r', encoding='utf-8') as file:\n",
    "    content = file.read()\n",
    "    # 使用连续的换行符('\\n\\n')作为分隔符来分割文本\n",
    "    data_samples = content.split('\\n\\n')\n",
    "\n",
    "    # 遍历分割后的数据样例并添加到列表中\n",
    "    for sample in data_samples:\n",
    "        # 移除每个样例中的额外空白字符（如果有的话）\n",
    "        cleaned_sample = sample.strip()\n",
    "        # 仅添加非空样例\n",
    "        if cleaned_sample:\n",
    "            raw_content_data.append(cleaned_sample)"
   ]
  },
  {
   "cell_type": "code",
   "execution_count": null,
   "metadata": {},
   "outputs": [],
   "source": [
    "# 输出结果以验证\n",
    "for i, sample in enumerate(raw_content_data[:5]):  # 打印前5个样例以检查\n",
    "    print(f\"样例 {i+1}:\")\n",
    "    print(sample)\n",
    "    print(\"------\")"
   ]
  }
 ],
 "metadata": {
  "language_info": {
   "name": "python"
  }
 },
 "nbformat": 4,
 "nbformat_minor": 2
}
