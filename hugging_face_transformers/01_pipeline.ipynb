{
 "cells": [
  {
   "cell_type": "code",
   "execution_count": null,
   "metadata": {},
   "outputs": [],
   "source": [
    "from transformers import pipeline"
   ]
  },
  {
   "cell_type": "markdown",
   "metadata": {},
   "source": [
    "## 仅指定任务时，使用默认模型（不推荐）"
   ]
  },
  {
   "cell_type": "code",
   "execution_count": null,
   "metadata": {},
   "outputs": [],
   "source": [
    "# =========情感识别=========\n",
    "pipe = pipeline(\"sentiment-analysis\")\n",
    "print(pipe(\"I love you\"))"
   ]
  },
  {
   "cell_type": "code",
   "execution_count": null,
   "metadata": {},
   "outputs": [],
   "source": [
    "# =========文本问答=========\n",
    "question_answerer = pipeline(\"question-answering\")\n",
    "preds = question_answerer(\n",
    "    question=\"What is the name of the repository ?\",\n",
    "    context=\"Pipeline have been included in the huggingface/transformers repository\"\n",
    ")\n",
    "\n",
    "print(f'score: {preds[\"score\"]}, start: {preds[\"start\"]}, end: {preds[\"end\"]}, answer: {preds[\"answer\"]}')"
   ]
  },
  {
   "cell_type": "code",
   "execution_count": null,
   "metadata": {},
   "outputs": [],
   "source": [
    "# =========语音识别=========\n",
    "transcirber = pipeline(\"automatic-speech-recognition\", model=\"openai/whisper-small\")\n",
    "text = transcirber(\"data/audio/mlk.flac\")\n",
    "print(text)"
   ]
  },
  {
   "cell_type": "code",
   "execution_count": null,
   "metadata": {},
   "outputs": [],
   "source": [
    "# =========图像分类=========\n",
    "classifier = pipeline(\"image-classification\")\n",
    "preds = classifier(\"data/images/flower.jpg\")\n",
    "preds = [{\"score\": round(pred[\"score\"], 4), \"label\": pred[\"label\"]}\n",
    "         for pred in preds]\n",
    "print(preds, sep=\"\\n\")"
   ]
  }
 ],
 "metadata": {
  "language_info": {
   "name": "python"
  }
 },
 "nbformat": 4,
 "nbformat_minor": 2
}
