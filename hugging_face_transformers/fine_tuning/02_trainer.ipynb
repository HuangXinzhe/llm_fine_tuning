{
 "cells": [
  {
   "cell_type": "markdown",
   "metadata": {},
   "source": [
    "## trainer\n",
    "1. 定义trainer对象实例\n",
    "2. 准备trainer实例中需要使用的各个组件\n",
    "3. trainer.train()开始训练"
   ]
  },
  {
   "cell_type": "code",
   "execution_count": null,
   "metadata": {},
   "outputs": [],
   "source": [
    "trainer = Trainer(\n",
    "    model=model,  # 模型\n",
    "    args=training_args,  # 训练参数\n",
    "    train_dataset=train_dataset,  # 训练集\n",
    "    eval_dataset=eval_dataset,  # 验证集\n",
    "    compute_metrics=compute_metrics,  # 评估指标\n",
    ")"
   ]
  },
  {
   "cell_type": "markdown",
   "metadata": {},
   "source": [
    "## Transformer TrainerArguments实现统一的训练参数配置\n",
    "class transformer.TrainerArguments"
   ]
  },
  {
   "cell_type": "code",
   "execution_count": null,
   "metadata": {},
   "outputs": [],
   "source": []
  },
  {
   "cell_type": "markdown",
   "metadata": {},
   "source": []
  }
 ],
 "metadata": {
  "kernelspec": {
   "display_name": "llm9",
   "language": "python",
   "name": "python3"
  },
  "language_info": {
   "name": "python",
   "version": "3.9.18"
  }
 },
 "nbformat": 4,
 "nbformat_minor": 2
}
