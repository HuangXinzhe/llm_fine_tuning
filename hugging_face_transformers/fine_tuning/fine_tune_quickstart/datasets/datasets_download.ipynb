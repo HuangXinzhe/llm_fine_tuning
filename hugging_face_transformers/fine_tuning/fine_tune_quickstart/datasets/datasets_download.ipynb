{
 "cells": [
  {
   "cell_type": "markdown",
   "metadata": {},
   "source": [
    "## 1、下载数据集"
   ]
  },
  {
   "cell_type": "code",
   "execution_count": 3,
   "metadata": {},
   "outputs": [],
   "source": [
    "from datasets import load_dataset\n",
    "\n",
    "dataset = load_dataset(\"yelp_review_full\", \n",
    "                       cache_dir='/Users/huangxinzhe/code/llm_fine_tuning/hugging_face_transformers/fine_tuning/data')"
   ]
  },
  {
   "cell_type": "code",
   "execution_count": 4,
   "metadata": {},
   "outputs": [
    {
     "data": {
      "text/plain": [
       "DatasetDict({\n",
       "    train: Dataset({\n",
       "        features: ['label', 'text'],\n",
       "        num_rows: 650000\n",
       "    })\n",
       "    test: Dataset({\n",
       "        features: ['label', 'text'],\n",
       "        num_rows: 50000\n",
       "    })\n",
       "})"
      ]
     },
     "execution_count": 4,
     "metadata": {},
     "output_type": "execute_result"
    }
   ],
   "source": [
    "dataset"
   ]
  },
  {
   "cell_type": "code",
   "execution_count": 5,
   "metadata": {},
   "outputs": [
    {
     "data": {
      "text/plain": [
       "{'label': 0,\n",
       " 'text': \"Owning a driving range inside the city limits is like a license to print money.  I don't think I ask much out of a driving range.  Decent mats, clean balls and accessible hours.  Hell you need even less people now with the advent of the machine that doles out the balls.  This place has none of them.  It is april and there are no grass tees yet.  BTW they opened for the season this week although it has been golfing weather for a month.  The mats look like the carpet at my 107 year old aunt Irene's house.  Worn and thread bare.  Let's talk about the hours.  This place is equipped with lights yet they only sell buckets of balls until 730.  It is still light out.  Finally lets you have the pit to hit into.  When I arrived I wasn't sure if this was a driving range or an excavation site for a mastodon or a strip mining operation.  There is no grass on the range. Just mud.  Makes it a good tool to figure out how far you actually are hitting the ball.  Oh, they are cash only also.\\\\n\\\\nBottom line, this place sucks.  The best hope is that the owner sells it to someone that actually wants to make money and service golfers in Pittsburgh.\"}"
      ]
     },
     "execution_count": 5,
     "metadata": {},
     "output_type": "execute_result"
    }
   ],
   "source": [
    "dataset[\"train\"][10]"
   ]
  },
  {
   "cell_type": "markdown",
   "metadata": {},
   "source": [
    "## 随机抽取数据查看"
   ]
  },
  {
   "cell_type": "code",
   "execution_count": 7,
   "metadata": {},
   "outputs": [],
   "source": [
    "import random\n",
    "import pandas as pd\n",
    "import datasets\n",
    "from IPython.display import display, HTML"
   ]
  },
  {
   "cell_type": "code",
   "execution_count": 24,
   "metadata": {},
   "outputs": [],
   "source": [
    "def show_random_elements(dataset, num_examples=10):\n",
    "    # assert是断言，如果后面的表达式为真，则继续执行，否则抛出AssertionError\n",
    "    # 判断随机选取的样本数是否大于数据集的样本数\n",
    "    assert num_examples <= len(dataset), \"Can't pick more elements than there are in the dataset.\"\n",
    "    # 随机选取num_examples个样本\n",
    "    picks = []\n",
    "    for _ in range(num_examples):\n",
    "        pick = random.randint(0, len(dataset)-1)\n",
    "        while pick in picks:\n",
    "            pick = random.randint(0, len(dataset)-1)\n",
    "        picks.append(pick)\n",
    "    \n",
    "    df = pd.DataFrame(dataset[picks])\n",
    "    for column, typ in dataset.features.items():\n",
    "        if isinstance(typ, datasets.ClassLabel):  \n",
    "            df[column] = df[column].transform(lambda i: typ.names[i])\n",
    "    display(HTML(df.to_html()))"
   ]
  },
  {
   "cell_type": "code",
   "execution_count": 25,
   "metadata": {},
   "outputs": [
    {
     "data": {
      "text/html": [
       "<table border=\"1\" class=\"dataframe\">\n",
       "  <thead>\n",
       "    <tr style=\"text-align: right;\">\n",
       "      <th></th>\n",
       "      <th>label</th>\n",
       "      <th>text</th>\n",
       "    </tr>\n",
       "  </thead>\n",
       "  <tbody>\n",
       "    <tr>\n",
       "      <th>0</th>\n",
       "      <td>3 stars</td>\n",
       "      <td>2.5 for service 3 for food\\n\\nThe food is typical Chili's.  I honestly can't complain.  What I will mention my distaste over is the SLOOOOOOW service we received.  We arrived at just before noon.  It was not that busy and it never really got overly busy for what I  would expect would be a busy lunch rush.  Ok so we were a party of 8 at lunch time but we didn't order anything out of the ordinary, some quesadillas, a couple of burgers a few sandwiches and some salads.  We were so famished by the time we got our meals we ate quickly. Also by the time we got our checks and they processed the cards that was another PROOOOOOCESSS.\\nWe had an hour for lunch and we were more than 15 min late to our meeting next door at Bass Pro. I have been to other places like Chili's for lunch and I have been in and out within about 45 min.  \\n\\nIf you are not in a hurry and in the area consider them but there is plenty of other places to consider near by.</td>\n",
       "    </tr>\n",
       "    <tr>\n",
       "      <th>1</th>\n",
       "      <td>2 star</td>\n",
       "      <td>Now I know.  I didn't realize this was a chain.  After we left my husband said \\\"I was wondering why you wanted to go to an \\\"IHOP\\\".\\\"  \\n\\nFor what it is it was fine; nothing special typical breakfast food.\\n\\nI had the eggs Benedict; eggs had runny whites, hollandaise was oily (like it sat in the window for a bit),  bacon was nice and thick though.\\n\\nNick had the apple waffle.  Much better than mine; so I finished it for him.\\n\\nService was good.  Sorry, but I probably wont be back. Still looking for my holy grail breakfast place.</td>\n",
       "    </tr>\n",
       "    <tr>\n",
       "      <th>2</th>\n",
       "      <td>3 stars</td>\n",
       "      <td>Stayed here for a bachelorette weekend, late May 2013. As we arrived, no help from the bell desk to get our luggage to the rooms. We were 5 women with the luggage of 5 women! Rooms are okay, spacious with a kitchenette. Serious lack of mirrors though, and the lighting in the bathroom is flat-out terrible. No robes, a balcony you can't access unless you are an owner (apparently it's a condo-hotel), small kitchenette with everything you might need except a working dishwasher (and no regular dish detergent to do the dishes by hand). Pool area is pretty small with very little shade -- we spent most days at the Palms pool. While at the Palms you might feel like you are \\\"in the middle of it\\\", we definitely felt \\\"off-strip\\\" at Palms Place -- not a good thing for a bachelorette group. Overall a decent deal (we booked through JetSetter), but next time I'll go back to the Wynn for the service and ambiance.</td>\n",
       "    </tr>\n",
       "    <tr>\n",
       "      <th>3</th>\n",
       "      <td>4 stars</td>\n",
       "      <td>Burgers are reasonably priced and very good. The Smash fries are good with the oil. The staff was friendly but not attentive. I ordered a shake after my meal but never received it. I had to go back to the counter with my receipt and the staff told me they were sorry and brought it to my table.</td>\n",
       "    </tr>\n",
       "    <tr>\n",
       "      <th>4</th>\n",
       "      <td>5 stars</td>\n",
       "      <td>AMAZING food and WONDERFUL service. Literally have loved everything I've ordered (which is a lot). So many options and combos with a \\\"featured\\\" dog every week, which really keeps me coming back. I love supporting local, and I REALLY love supporting local when the food is great and owners actually care about your experience. Can't rave enough about Short Leash. A true gem of Phoenix.</td>\n",
       "    </tr>\n",
       "    <tr>\n",
       "      <th>5</th>\n",
       "      <td>5 stars</td>\n",
       "      <td>Just went in with my husband and kids. Very busy place. Waited in line for about 20 mins. Never seen it this busy. So many things to eat. Love coming here. I got the Fresas con crema, very good. My daughter got the banana split with the gansito ice cream. Very good taste just like a gansito. My husband and I split a titanic hot dog with fries. Very good. Next time we're trying the chupale pichon. I wish they would lower their prices though, kinda pricey  :(</td>\n",
       "    </tr>\n",
       "    <tr>\n",
       "      <th>6</th>\n",
       "      <td>1 star</td>\n",
       "      <td>There were mistakes made by staff from the time we arrived for a FUNERAL in PHNX until we left. From the horrible smell in the hallways to the more than 45 minutes of waiting when we called a cab, it was a disaster.. \\nFor the life of me, I can't seem to figure out why there's no cab stand near there when there are at least 3 hotels in that small area. Ridiculous...\\nI have no intentions of going back there.</td>\n",
       "    </tr>\n",
       "    <tr>\n",
       "      <th>7</th>\n",
       "      <td>1 star</td>\n",
       "      <td>Many of the activities advertised were broken and the staff was rude to us when we tried to bring it up with them.</td>\n",
       "    </tr>\n",
       "    <tr>\n",
       "      <th>8</th>\n",
       "      <td>3 stars</td>\n",
       "      <td>Haven't stayed here for couple of years (after the fire sometime ago). We booked this for cheap, with tax n resort fee (we never use the gym and pool, but oh well), came out to like 70 bucks/nite, which was alright considering the X'Mas holiday.\\nSo far as good. The ONLY gripe I have..... No WIFI.....the heck? 2015 just around the corner, who still lugs their Lappie and use RJ45?</td>\n",
       "    </tr>\n",
       "    <tr>\n",
       "      <th>9</th>\n",
       "      <td>3 stars</td>\n",
       "      <td>Nice place to shop, especially if you're visiting from Middle Of Nowhere, USA. Here you'll find everything, from high-end boutiques like Fendi, Gucci and Louis Vuitton to your usual fare mall shops like the Gap, Express and Bath&amp;Body Works. Fortunate for me, this is nothing new as most of the high-end boutique shops I can easily access in San Francisco's Union Square---that is, if I was into spending $300 for a wallet. I always find myself walking through here each time I'm in town, but I don't think I've ever bought anything here except for food.</td>\n",
       "    </tr>\n",
       "  </tbody>\n",
       "</table>"
      ],
      "text/plain": [
       "<IPython.core.display.HTML object>"
      ]
     },
     "metadata": {},
     "output_type": "display_data"
    }
   ],
   "source": [
    "show_random_elements(dataset[\"train\"])"
   ]
  }
 ],
 "metadata": {
  "kernelspec": {
   "display_name": "llm9",
   "language": "python",
   "name": "python3"
  },
  "language_info": {
   "codemirror_mode": {
    "name": "ipython",
    "version": 3
   },
   "file_extension": ".py",
   "mimetype": "text/x-python",
   "name": "python",
   "nbconvert_exporter": "python",
   "pygments_lexer": "ipython3",
   "version": "3.9.18"
  }
 },
 "nbformat": 4,
 "nbformat_minor": 2
}
